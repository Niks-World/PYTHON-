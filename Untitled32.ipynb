{
 "cells": [
  {
   "cell_type": "code",
   "execution_count": 1,
   "id": "af86dd0e",
   "metadata": {},
   "outputs": [
    {
     "ename": "NameError",
     "evalue": "name 'custmer' is not defined",
     "output_type": "error",
     "traceback": [
      "\u001b[1;31m---------------------------------------------------------------------------\u001b[0m",
      "\u001b[1;31mNameError\u001b[0m                                 Traceback (most recent call last)",
      "\u001b[1;32m~\\AppData\\Local\\Temp/ipykernel_14660/578041139.py\u001b[0m in \u001b[0;36m<module>\u001b[1;34m\u001b[0m\n\u001b[1;32m----> 1\u001b[1;33m \u001b[1;33m(\u001b[0m\u001b[0mcustmer\u001b[0m\u001b[1;33m[\u001b[0m\u001b[1;34m'InternetService'\u001b[0m\u001b[1;33m]\u001b[0m\u001b[1;33m.\u001b[0m\u001b[0mvalue_counts\u001b[0m\u001b[1;33m(\u001b[0m\u001b[1;33m)\u001b[0m\u001b[1;33m.\u001b[0m\u001b[0mkeys\u001b[0m\u001b[1;33m(\u001b[0m\u001b[1;33m)\u001b[0m\u001b[1;33m.\u001b[0m\u001b[0mtolist\u001b[0m\u001b[1;33m(\u001b[0m\u001b[1;33m)\u001b[0m\u001b[1;33m,\u001b[0m\u001b[0mcustmer\u001b[0m\u001b[1;33m[\u001b[0m\u001b[1;34m'InternetService'\u001b[0m\u001b[1;33m]\u001b[0m\u001b[1;33m.\u001b[0m\u001b[0mvalue_counts\u001b[0m\u001b[1;33m(\u001b[0m\u001b[1;33m)\u001b[0m\u001b[1;33m.\u001b[0m\u001b[0mtolist\u001b[0m\u001b[1;33m(\u001b[0m\u001b[1;33m)\u001b[0m\u001b[1;33m)\u001b[0m\u001b[1;33m\u001b[0m\u001b[1;33m\u001b[0m\u001b[0m\n\u001b[0m",
      "\u001b[1;31mNameError\u001b[0m: name 'custmer' is not defined"
     ]
    }
   ],
   "source": [
    "(custmer['InternetService'].value_counts().keys().tolist(),custmer['InternetService'].value_counts().tolist())"
   ]
  },
  {
   "cell_type": "code",
   "execution_count": 8,
   "id": "68967e1c",
   "metadata": {},
   "outputs": [],
   "source": [
    "custmer=pd.read_csv('D:\\Customer_Churn.csv')"
   ]
  },
  {
   "cell_type": "code",
   "execution_count": 3,
   "id": "44041f5e",
   "metadata": {},
   "outputs": [],
   "source": [
    "import pandas as pd\n",
    "import numpy as np\n",
    "from matplotlib import pyplot as plt"
   ]
  },
  {
   "cell_type": "code",
   "execution_count": 4,
   "id": "ecc2c027",
   "metadata": {},
   "outputs": [],
   "source": [
    "def spirograph(p,x,y,R=100,r=4):plt.bar(custmer['InternetService'].value_counts().keys().tolist(),custmer['InternetService'].value_counts().tolist())"
   ]
  },
  {
   "cell_type": "code",
   "execution_count": 9,
   "id": "4651ca05",
   "metadata": {},
   "outputs": [],
   "source": [
    "def spirograph(p,x,y,R=100,r=4):plt.bar(custmer['InternetService'].value_counts().keys().tolist())"
   ]
  },
  {
   "cell_type": "code",
   "execution_count": 12,
   "id": "e52cee3c",
   "metadata": {},
   "outputs": [],
   "source": [
    "def spirograph(p,x,y):bar.plot(custmer['InternetService'].value_counts().keys().tolist())"
   ]
  },
  {
   "cell_type": "code",
   "execution_count": 16,
   "id": "872f63e3",
   "metadata": {},
   "outputs": [],
   "source": [
    "def spirograph(p,x,y):scatter.plt()"
   ]
  },
  {
   "cell_type": "code",
   "execution_count": 21,
   "id": "26e6c520",
   "metadata": {},
   "outputs": [
    {
     "data": {
      "image/png": "[encoded data removed]",
      "text/plain": [
       "<Figure size 432x288 with 1 Axes>"
      ]
     },
     "metadata": {
      "needs_background": "light"
     },
     "output_type": "display_data"
    }
   ],
   "source": [
    "a=[10,20,30,40,50,60,70,80]\n",
    "b=[5,3,2,5,6,1,4,2]\n",
    "x=[1,2,3,4,3,2,1,2]\n",
    "plt.scatter(a,b)\n",
    "plt.scatter(a,x)\n",
    "plt.show()"
   ]
  },
  {
   "cell_type": "code",
   "execution_count": 30,
   "id": "9501e16d",
   "metadata": {},
   "outputs": [
    {
     "data": {
      "image/png": "[encoded data removed]",
      "text/plain": [
       "<Figure size 720x360 with 1 Axes>"
      ]
     },
     "metadata": {
      "needs_background": "light"
     },
     "output_type": "display_data"
    }
   ],
   "source": [
    "data={'apple':20,'mango':15,'lemon':30,'orange':10}\n",
    "name=list(data.keys())\n",
    "values = list(data.values())\n",
    "fig= plt.figure(figsize=(10,5))\n",
    "plt.bar(name,values,color='pink')\n",
    "plt.show()"
   ]
  },
  {
   "cell_type": "code",
   "execution_count": null,
   "id": "e11e4cf3",
   "metadata": {},
   "outputs": [],
   "source": []
  }
 ],
 "metadata": {
  "kernelspec": {
   "display_name": "Python 3 (ipykernel)",
   "language": "python",
   "name": "python3"
  },
  "language_info": {
   "codemirror_mode": {
    "name": "ipython",
    "version": 3
   },
   "file_extension": ".py",
   "mimetype": "text/x-python",
   "name": "python",
   "nbconvert_exporter": "python",
   "pygments_lexer": "ipython3",
   "version": "3.9.7"
  }
 },
 "nbformat": 4,
 "nbformat_minor": 5
}
